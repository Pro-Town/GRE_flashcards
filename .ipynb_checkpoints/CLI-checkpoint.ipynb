{
 "cells": [
  {
   "cell_type": "markdown",
   "metadata": {},
   "source": [
    "#### Preprocess - Get the words, split on '.'"
   ]
  },
  {
   "cell_type": "code",
   "execution_count": 1,
   "metadata": {},
   "outputs": [],
   "source": [
    "import pandas as pd\n",
    "\n",
    "vocab = pd.read_csv('./vocabulary.txt', sep='\\n').iloc[:, -1].tolist()\n",
    "words = list()\n",
    "meanings = list()\n",
    "for line in vocab:\n",
    "    words.append(line.split('.')[0])\n",
    "    meanings.append(line.split('.')[1])"
   ]
  },
  {
   "cell_type": "markdown",
   "metadata": {},
   "source": [
    "#### CLI creation"
   ]
  },
  {
   "cell_type": "code",
   "execution_count": 2,
   "metadata": {},
   "outputs": [
    {
     "name": "stdout",
     "output_type": "stream",
     "text": [
      "298/297\n",
      "Words to remember :) \n",
      " ['Profligate ', 'Peril ', 'Languid ', 'Tantamount ', 'Engender ', 'Sagacious ', 'Astute ', 'Recant ', 'Baleful ', 'Facetious ', 'Contentious ', 'Acument ', 'Sinister ', 'Languid ', 'Culminate ', 'Facile ', 'Diabolical ']\n"
     ]
    }
   ],
   "source": [
    "from IPython.display import clear_output\n",
    "import random\n",
    "from time import sleep\n",
    "\n",
    "count = 0\n",
    "n_words = len(words)-1\n",
    "d_words = list()\n",
    "\n",
    "while count <= n_words:\n",
    "    random_int = random.randint(0, n_words-count)\n",
    "    print(\"\\t\\t\\t\\t\", words[random_int])\n",
    "    sleep(0.1)\n",
    "    input(\"\")\n",
    "    sleep(0.05)\n",
    "    print(\"\\t\\t\\t\\t\", meanings[random_int])\n",
    "    choice = input(\"Continue?[y/n/d] (y)\")        # default is y(yes). n(no), d(don't know) \n",
    "    count += 1\n",
    "    clear_output()\n",
    "    if choice.lower().strip() == 'n':\n",
    "        print(\"All the Best!\")\n",
    "        break\n",
    "    elif choice.lower().strip() == 'd':\n",
    "        d_words.append(words[random_int])\n",
    "        \n",
    "    del words[random_int]\n",
    "    del meanings[random_int]\n",
    "    \n",
    "    print(count,\"/\", n_words, sep=\"\")\n",
    "\n",
    "print(\"Words to remember :) \\n\", d_words)"
   ]
  },
  {
   "cell_type": "code",
   "execution_count": null,
   "metadata": {},
   "outputs": [],
   "source": [
    "aplomb languish fetid languid "
   ]
  },
  {
   "cell_type": "code",
   "execution_count": null,
   "metadata": {},
   "outputs": [],
   "source": [
    "'Profligate ', 'Peril ', 'Languid ', 'Tantamount ', 'Engender ', 'Sagacious ', 'Astute ', 'Recant ', 'Baleful ', 'Facetious ', 'Contentious ', 'Acument ', 'Sinister ', 'Languid ', 'Culminate ', 'Facile ', 'Diabolical"
   ]
  }
 ],
 "metadata": {
  "kernelspec": {
   "display_name": "Python 3",
   "language": "python",
   "name": "python3"
  },
  "language_info": {
   "codemirror_mode": {
    "name": "ipython",
    "version": 3
   },
   "file_extension": ".py",
   "mimetype": "text/x-python",
   "name": "python",
   "nbconvert_exporter": "python",
   "pygments_lexer": "ipython3",
   "version": "3.7.3"
  }
 },
 "nbformat": 4,
 "nbformat_minor": 2
}
