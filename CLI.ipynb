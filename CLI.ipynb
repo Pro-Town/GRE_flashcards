{
 "cells": [
  {
   "cell_type": "markdown",
   "metadata": {},
   "source": [
    "#### Preprocess - Get the words, split on '.'"
   ]
  },
  {
   "cell_type": "code",
   "execution_count": 1,
   "metadata": {},
   "outputs": [],
   "source": [
    "import pandas as pd\n",
    "\n",
    "vocab = pd.read_csv('./vocab2.txt', sep='\\n').iloc[:, -1].tolist()\n",
    "words = list()\n",
    "meanings = list()\n",
    "for line in vocab:\n",
    "    if '---' in line:\n",
    "        continue\n",
    "    words.append(line.split('.')[0])\n",
    "    meanings.append(line.split('.')[1])\n",
    "    "
   ]
  },
  {
   "cell_type": "markdown",
   "metadata": {},
   "source": [
    "#### CLI creation"
   ]
  },
  {
   "cell_type": "code",
   "execution_count": 2,
   "metadata": {},
   "outputs": [
    {
     "name": "stdout",
     "output_type": "stream",
     "text": [
      "29/28\n",
      "Words to remember :) \n",
      " []\n"
     ]
    }
   ],
   "source": [
    "from IPython.display import clear_output\n",
    "import random\n",
    "from time import sleep\n",
    "\n",
    "count = 0\n",
    "n_words = len(words)-1\n",
    "d_words = list()\n",
    "\n",
    "while count <= n_words:\n",
    "    random_int = random.randint(0, n_words-count)\n",
    "    print(\"\\t\\t\\t\\t\", words[random_int])\n",
    "    sleep(0.1)\n",
    "    input(\"\")\n",
    "    sleep(0.05)\n",
    "    print(\"\\t\\t\\t\\t\", meanings[random_int])\n",
    "    choice = input(\"Continue?[y/n/d] (y)\")        # default is y(yes). n(no), d(don't know) \n",
    "    count += 1\n",
    "    clear_output()\n",
    "    if choice.lower().strip() == 'n':\n",
    "        print(\"All the Best!\")\n",
    "        break\n",
    "    elif choice.lower().strip() == 'd':\n",
    "        d_words.append(words[random_int])\n",
    "        \n",
    "    del words[random_int]\n",
    "    del meanings[random_int]\n",
    "    \n",
    "    print(count,\"/\", n_words, sep=\"\")\n",
    "\n",
    "print(\"Words to remember :) \\n\", d_words)"
   ]
  },
  {
   "cell_type": "markdown",
   "metadata": {},
   "source": [
    "#### Revision - 1 (295 words)\n",
    "'Profligate ', 'Peril ', 'Languid ', 'Tantamount ', 'Engender ', 'Sagacious ', 'Astute ', 'Recant ', 'Baleful ', 'Facetious ', 'Contentious ', 'Acument ', 'Sinister ', 'Languid ', 'Culminate ', 'Facile ', 'Diabolical"
   ]
  },
  {
   "cell_type": "markdown",
   "metadata": {},
   "source": [
    "#### Revision - 2 (385 words)\n",
    "Quiescence\n",
    "Ameliorate\n",
    "Parlour\n",
    "Languid\n",
    "Subversive\n",
    "Fecund\n",
    "Cadaverous\n",
    "Inexorable\n",
    "Animosity\n",
    "Stigmatize\n",
    "Extenuating\n",
    "Reprobate\n",
    "Demure\n",
    "Vicarious\n",
    "Harried\n",
    "flattery\n",
    "Repudiate\n",
    "Insolent\n",
    "Corroborate\n",
    "Waxed\n",
    "Unconscionable\n",
    "Maladroit\n",
    "Screed\n",
    "Checkered\n",
    "Abstruse\n",
    "Quixotic\n",
    "Exalt\n",
    "Dissolute\n",
    "Peruse\n",
    "Pedantic\n",
    "Inveterate\n",
    "Unobstrusive\n",
    "Hegemony\n",
    "Burgeon\n",
    "Rescind\n",
    "Bellicose\n",
    "Pejorative\n",
    "Obsequios\n",
    "Entourage\n",
    "Aplomb\n",
    "Wry\n",
    "Languish\n",
    "Beguile\n",
    "Fetid  (strong bad smell)\n",
    "Blithely (beautiful in a negative way, callous)\n",
    "Manoeuvre\n",
    "Engender\n",
    "Tenacious\n",
    "Fleece\n",
    "Elfin\n",
    "Astute (wise)\n",
    "Inveigle\n",
    "Intransigent\n",
    "Covetous\n",
    "Desultory\n",
    "Remiss\n",
    "Virago\n",
    "Dormancy\n",
    "Inundate\n",
    "Propitious\n",
    "Aboveboard\n",
    "Junta\n",
    "Raft\n",
    "Belligerent\n",
    "Beatific"
   ]
  }
 ],
 "metadata": {
  "kernelspec": {
   "display_name": "Python 3",
   "language": "python",
   "name": "python3"
  },
  "language_info": {
   "codemirror_mode": {
    "name": "ipython",
    "version": 3
   },
   "file_extension": ".py",
   "mimetype": "text/x-python",
   "name": "python",
   "nbconvert_exporter": "python",
   "pygments_lexer": "ipython3",
   "version": "3.7.3"
  }
 },
 "nbformat": 4,
 "nbformat_minor": 2
}
